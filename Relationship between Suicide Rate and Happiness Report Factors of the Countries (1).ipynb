{
 "cells": [
  {
   "cell_type": "code",
   "execution_count": 1,
   "metadata": {},
   "outputs": [],
   "source": [
    "#import the libraries  \n",
    "import pandas as pd\n",
    "import numpy as np \n",
    "import seaborn as sns\n",
    "import matplotlib.pyplot as plt \n",
    "from scipy import stats"
   ]
  },
  {
   "cell_type": "code",
   "execution_count": 2,
   "metadata": {},
   "outputs": [],
   "source": [
    "#import suicide rates dataset \n",
    "suicide_rates_GPD = pd.read_csv('GDP_per_Capita_and_Suicide_rates.csv')"
   ]
  },
  {
   "cell_type": "code",
   "execution_count": 3,
   "metadata": {},
   "outputs": [
    {
     "data": {
      "text/html": [
       "<div>\n",
       "<style scoped>\n",
       "    .dataframe tbody tr th:only-of-type {\n",
       "        vertical-align: middle;\n",
       "    }\n",
       "\n",
       "    .dataframe tbody tr th {\n",
       "        vertical-align: top;\n",
       "    }\n",
       "\n",
       "    .dataframe thead th {\n",
       "        text-align: right;\n",
       "    }\n",
       "</style>\n",
       "<table border=\"1\" class=\"dataframe\">\n",
       "  <thead>\n",
       "    <tr style=\"text-align: right;\">\n",
       "      <th></th>\n",
       "      <th>CountryName</th>\n",
       "      <th>Country Code</th>\n",
       "      <th>GDP_PerCapita_2000 US$</th>\n",
       "      <th>SuicideRate_2000</th>\n",
       "      <th>GDP_PerCapita_2005 US$</th>\n",
       "      <th>SuicideRate_2005</th>\n",
       "      <th>GDP_PerCapita_2010 US$</th>\n",
       "      <th>SuicideRate_2010</th>\n",
       "      <th>GDP_PerCapita_2015 US$</th>\n",
       "      <th>SuicideRate_2015</th>\n",
       "      <th>GDP_PerCapita_2016 US$</th>\n",
       "      <th>SuicideRate_2016</th>\n",
       "    </tr>\n",
       "  </thead>\n",
       "  <tbody>\n",
       "    <tr>\n",
       "      <th>0</th>\n",
       "      <td>Afghanistan</td>\n",
       "      <td>AFG</td>\n",
       "      <td>NaN</td>\n",
       "      <td>5.7</td>\n",
       "      <td>242.031379</td>\n",
       "      <td>6.3</td>\n",
       "      <td>543.303042</td>\n",
       "      <td>5.1</td>\n",
       "      <td>578.466353</td>\n",
       "      <td>4.8</td>\n",
       "      <td>547.228110</td>\n",
       "      <td>4.7</td>\n",
       "    </tr>\n",
       "    <tr>\n",
       "      <th>1</th>\n",
       "      <td>Angola</td>\n",
       "      <td>AGO</td>\n",
       "      <td>556.836318</td>\n",
       "      <td>7.9</td>\n",
       "      <td>1902.422346</td>\n",
       "      <td>7.2</td>\n",
       "      <td>3587.883798</td>\n",
       "      <td>5.7</td>\n",
       "      <td>4166.979684</td>\n",
       "      <td>5.0</td>\n",
       "      <td>3506.072885</td>\n",
       "      <td>4.7</td>\n",
       "    </tr>\n",
       "    <tr>\n",
       "      <th>2</th>\n",
       "      <td>Albania</td>\n",
       "      <td>ALB</td>\n",
       "      <td>1126.683318</td>\n",
       "      <td>5.5</td>\n",
       "      <td>2673.787283</td>\n",
       "      <td>6.7</td>\n",
       "      <td>4094.358816</td>\n",
       "      <td>7.8</td>\n",
       "      <td>3952.830781</td>\n",
       "      <td>6.0</td>\n",
       "      <td>4124.108543</td>\n",
       "      <td>6.3</td>\n",
       "    </tr>\n",
       "    <tr>\n",
       "      <th>3</th>\n",
       "      <td>United Arab Emirates</td>\n",
       "      <td>ARE</td>\n",
       "      <td>33291.419370</td>\n",
       "      <td>3.2</td>\n",
       "      <td>39365.335920</td>\n",
       "      <td>3.1</td>\n",
       "      <td>33893.303510</td>\n",
       "      <td>3.0</td>\n",
       "      <td>38663.383810</td>\n",
       "      <td>2.8</td>\n",
       "      <td>38141.846760</td>\n",
       "      <td>2.8</td>\n",
       "    </tr>\n",
       "    <tr>\n",
       "      <th>4</th>\n",
       "      <td>Argentina</td>\n",
       "      <td>ARG</td>\n",
       "      <td>7708.100996</td>\n",
       "      <td>9.5</td>\n",
       "      <td>5109.851325</td>\n",
       "      <td>9.0</td>\n",
       "      <td>10385.964430</td>\n",
       "      <td>8.7</td>\n",
       "      <td>13789.060420</td>\n",
       "      <td>8.8</td>\n",
       "      <td>12790.242470</td>\n",
       "      <td>9.2</td>\n",
       "    </tr>\n",
       "  </tbody>\n",
       "</table>\n",
       "</div>"
      ],
      "text/plain": [
       "            CountryName Country Code  GDP_PerCapita_2000 US$  \\\n",
       "0           Afghanistan          AFG                     NaN   \n",
       "1                Angola          AGO              556.836318   \n",
       "2               Albania          ALB             1126.683318   \n",
       "3  United Arab Emirates          ARE            33291.419370   \n",
       "4             Argentina          ARG             7708.100996   \n",
       "\n",
       "   SuicideRate_2000  GDP_PerCapita_2005 US$  SuicideRate_2005  \\\n",
       "0               5.7              242.031379               6.3   \n",
       "1               7.9             1902.422346               7.2   \n",
       "2               5.5             2673.787283               6.7   \n",
       "3               3.2            39365.335920               3.1   \n",
       "4               9.5             5109.851325               9.0   \n",
       "\n",
       "   GDP_PerCapita_2010 US$  SuicideRate_2010  GDP_PerCapita_2015 US$  \\\n",
       "0              543.303042               5.1              578.466353   \n",
       "1             3587.883798               5.7             4166.979684   \n",
       "2             4094.358816               7.8             3952.830781   \n",
       "3            33893.303510               3.0            38663.383810   \n",
       "4            10385.964430               8.7            13789.060420   \n",
       "\n",
       "   SuicideRate_2015  GDP_PerCapita_2016 US$  SuicideRate_2016  \n",
       "0               4.8              547.228110               4.7  \n",
       "1               5.0             3506.072885               4.7  \n",
       "2               6.0             4124.108543               6.3  \n",
       "3               2.8            38141.846760               2.8  \n",
       "4               8.8            12790.242470               9.2  "
      ]
     },
     "execution_count": 3,
     "metadata": {},
     "output_type": "execute_result"
    }
   ],
   "source": [
    "#explore the dataset\n",
    "#see the first 5 rows\n",
    "suicide_rates_GPD.head()"
   ]
  },
  {
   "cell_type": "code",
   "execution_count": 4,
   "metadata": {},
   "outputs": [
    {
     "data": {
      "text/plain": [
       "(160, 12)"
      ]
     },
     "execution_count": 4,
     "metadata": {},
     "output_type": "execute_result"
    }
   ],
   "source": [
    "#see the number of columns & rows \n",
    "suicide_rates_GPD.shape"
   ]
  },
  {
   "cell_type": "code",
   "execution_count": 5,
   "metadata": {},
   "outputs": [
    {
     "name": "stdout",
     "output_type": "stream",
     "text": [
      "<class 'pandas.core.frame.DataFrame'>\n",
      "RangeIndex: 160 entries, 0 to 159\n",
      "Data columns (total 12 columns):\n",
      " #   Column                  Non-Null Count  Dtype  \n",
      "---  ------                  --------------  -----  \n",
      " 0   CountryName             160 non-null    object \n",
      " 1   Country Code            160 non-null    object \n",
      " 2   GDP_PerCapita_2000 US$  155 non-null    float64\n",
      " 3   SuicideRate_2000        160 non-null    float64\n",
      " 4   GDP_PerCapita_2005 US$  158 non-null    float64\n",
      " 5   SuicideRate_2005        160 non-null    float64\n",
      " 6   GDP_PerCapita_2010 US$  158 non-null    float64\n",
      " 7   SuicideRate_2010        160 non-null    float64\n",
      " 8   GDP_PerCapita_2015 US$  158 non-null    float64\n",
      " 9   SuicideRate_2015        160 non-null    float64\n",
      " 10  GDP_PerCapita_2016 US$  158 non-null    float64\n",
      " 11  SuicideRate_2016        160 non-null    float64\n",
      "dtypes: float64(10), object(2)\n",
      "memory usage: 15.1+ KB\n"
     ]
    }
   ],
   "source": [
    "#see details about the columns\n",
    "suicide_rates_GPD.info()"
   ]
  },
  {
   "cell_type": "code",
   "execution_count": 6,
   "metadata": {},
   "outputs": [
    {
     "data": {
      "text/plain": [
       "CountryName               0\n",
       "Country Code              0\n",
       "GDP_PerCapita_2000 US$    5\n",
       "SuicideRate_2000          0\n",
       "GDP_PerCapita_2005 US$    2\n",
       "SuicideRate_2005          0\n",
       "GDP_PerCapita_2010 US$    2\n",
       "SuicideRate_2010          0\n",
       "GDP_PerCapita_2015 US$    2\n",
       "SuicideRate_2015          0\n",
       "GDP_PerCapita_2016 US$    2\n",
       "SuicideRate_2016          0\n",
       "dtype: int64"
      ]
     },
     "execution_count": 6,
     "metadata": {},
     "output_type": "execute_result"
    }
   ],
   "source": [
    "#see if there is missing value\n",
    "suicide_rates_GPD.isnull().sum()"
   ]
  },
  {
   "cell_type": "code",
   "execution_count": 7,
   "metadata": {},
   "outputs": [],
   "source": [
    "#clean the data\n",
    "#remove the unnecessary columns \n",
    "suicide_rates_GPD.drop(['Country Code', 'GDP_PerCapita_2000 US$', 'SuicideRate_2000', 'GDP_PerCapita_2005 US$', 'SuicideRate_2005', 'GDP_PerCapita_2010 US$', 'SuicideRate_2010', 'GDP_PerCapita_2015 US$', 'GDP_PerCapita_2016 US$'], axis=1, inplace=True)\n",
    "#I removed the columns that contains GDP for 2015 & 2016, because they have missing values, and the happiness report have this data "
   ]
  },
  {
   "cell_type": "code",
   "execution_count": 8,
   "metadata": {},
   "outputs": [],
   "source": [
    "#make the country name columns the index so we can join the datasets after\n",
    "suicide_rates_GPD.set_index('CountryName', inplace=True)"
   ]
  },
  {
   "cell_type": "code",
   "execution_count": 9,
   "metadata": {},
   "outputs": [
    {
     "data": {
      "text/html": [
       "<div>\n",
       "<style scoped>\n",
       "    .dataframe tbody tr th:only-of-type {\n",
       "        vertical-align: middle;\n",
       "    }\n",
       "\n",
       "    .dataframe tbody tr th {\n",
       "        vertical-align: top;\n",
       "    }\n",
       "\n",
       "    .dataframe thead th {\n",
       "        text-align: right;\n",
       "    }\n",
       "</style>\n",
       "<table border=\"1\" class=\"dataframe\">\n",
       "  <thead>\n",
       "    <tr style=\"text-align: right;\">\n",
       "      <th></th>\n",
       "      <th>SuicideRate_2015</th>\n",
       "      <th>SuicideRate_2016</th>\n",
       "    </tr>\n",
       "    <tr>\n",
       "      <th>CountryName</th>\n",
       "      <th></th>\n",
       "      <th></th>\n",
       "    </tr>\n",
       "  </thead>\n",
       "  <tbody>\n",
       "    <tr>\n",
       "      <th>Afghanistan</th>\n",
       "      <td>4.8</td>\n",
       "      <td>4.7</td>\n",
       "    </tr>\n",
       "    <tr>\n",
       "      <th>Angola</th>\n",
       "      <td>5.0</td>\n",
       "      <td>4.7</td>\n",
       "    </tr>\n",
       "    <tr>\n",
       "      <th>Albania</th>\n",
       "      <td>6.0</td>\n",
       "      <td>6.3</td>\n",
       "    </tr>\n",
       "    <tr>\n",
       "      <th>United Arab Emirates</th>\n",
       "      <td>2.8</td>\n",
       "      <td>2.8</td>\n",
       "    </tr>\n",
       "    <tr>\n",
       "      <th>Argentina</th>\n",
       "      <td>8.8</td>\n",
       "      <td>9.2</td>\n",
       "    </tr>\n",
       "  </tbody>\n",
       "</table>\n",
       "</div>"
      ],
      "text/plain": [
       "                      SuicideRate_2015  SuicideRate_2016\n",
       "CountryName                                             \n",
       "Afghanistan                        4.8               4.7\n",
       "Angola                             5.0               4.7\n",
       "Albania                            6.0               6.3\n",
       "United Arab Emirates               2.8               2.8\n",
       "Argentina                          8.8               9.2"
      ]
     },
     "execution_count": 9,
     "metadata": {},
     "output_type": "execute_result"
    }
   ],
   "source": [
    "suicide_rates_GPD.head()"
   ]
  },
  {
   "cell_type": "code",
   "execution_count": 10,
   "metadata": {},
   "outputs": [
    {
     "data": {
      "text/html": [
       "<div>\n",
       "<style scoped>\n",
       "    .dataframe tbody tr th:only-of-type {\n",
       "        vertical-align: middle;\n",
       "    }\n",
       "\n",
       "    .dataframe tbody tr th {\n",
       "        vertical-align: top;\n",
       "    }\n",
       "\n",
       "    .dataframe thead th {\n",
       "        text-align: right;\n",
       "    }\n",
       "</style>\n",
       "<table border=\"1\" class=\"dataframe\">\n",
       "  <thead>\n",
       "    <tr style=\"text-align: right;\">\n",
       "      <th></th>\n",
       "      <th>SuicideRate_2015</th>\n",
       "    </tr>\n",
       "    <tr>\n",
       "      <th>CountryName</th>\n",
       "      <th></th>\n",
       "    </tr>\n",
       "  </thead>\n",
       "  <tbody>\n",
       "    <tr>\n",
       "      <th>Afghanistan</th>\n",
       "      <td>4.8</td>\n",
       "    </tr>\n",
       "    <tr>\n",
       "      <th>Angola</th>\n",
       "      <td>5.0</td>\n",
       "    </tr>\n",
       "    <tr>\n",
       "      <th>Albania</th>\n",
       "      <td>6.0</td>\n",
       "    </tr>\n",
       "    <tr>\n",
       "      <th>United Arab Emirates</th>\n",
       "      <td>2.8</td>\n",
       "    </tr>\n",
       "    <tr>\n",
       "      <th>Argentina</th>\n",
       "      <td>8.8</td>\n",
       "    </tr>\n",
       "  </tbody>\n",
       "</table>\n",
       "</div>"
      ],
      "text/plain": [
       "                      SuicideRate_2015\n",
       "CountryName                           \n",
       "Afghanistan                        4.8\n",
       "Angola                             5.0\n",
       "Albania                            6.0\n",
       "United Arab Emirates               2.8\n",
       "Argentina                          8.8"
      ]
     },
     "execution_count": 10,
     "metadata": {},
     "output_type": "execute_result"
    }
   ],
   "source": [
    "#we need to split this dataset to two datasets, one for 2015, and the other for 2016\n",
    "suicide_rates_2015 = pd.DataFrame(suicide_rates_GPD.iloc[:, 0:1])\n",
    "suicide_rates_2015.head()"
   ]
  },
  {
   "cell_type": "code",
   "execution_count": 11,
   "metadata": {},
   "outputs": [
    {
     "data": {
      "text/html": [
       "<div>\n",
       "<style scoped>\n",
       "    .dataframe tbody tr th:only-of-type {\n",
       "        vertical-align: middle;\n",
       "    }\n",
       "\n",
       "    .dataframe tbody tr th {\n",
       "        vertical-align: top;\n",
       "    }\n",
       "\n",
       "    .dataframe thead th {\n",
       "        text-align: right;\n",
       "    }\n",
       "</style>\n",
       "<table border=\"1\" class=\"dataframe\">\n",
       "  <thead>\n",
       "    <tr style=\"text-align: right;\">\n",
       "      <th></th>\n",
       "      <th>SuicideRate_2016</th>\n",
       "    </tr>\n",
       "    <tr>\n",
       "      <th>CountryName</th>\n",
       "      <th></th>\n",
       "    </tr>\n",
       "  </thead>\n",
       "  <tbody>\n",
       "    <tr>\n",
       "      <th>Afghanistan</th>\n",
       "      <td>4.7</td>\n",
       "    </tr>\n",
       "    <tr>\n",
       "      <th>Angola</th>\n",
       "      <td>4.7</td>\n",
       "    </tr>\n",
       "    <tr>\n",
       "      <th>Albania</th>\n",
       "      <td>6.3</td>\n",
       "    </tr>\n",
       "    <tr>\n",
       "      <th>United Arab Emirates</th>\n",
       "      <td>2.8</td>\n",
       "    </tr>\n",
       "    <tr>\n",
       "      <th>Argentina</th>\n",
       "      <td>9.2</td>\n",
       "    </tr>\n",
       "  </tbody>\n",
       "</table>\n",
       "</div>"
      ],
      "text/plain": [
       "                      SuicideRate_2016\n",
       "CountryName                           \n",
       "Afghanistan                        4.7\n",
       "Angola                             4.7\n",
       "Albania                            6.3\n",
       "United Arab Emirates               2.8\n",
       "Argentina                          9.2"
      ]
     },
     "execution_count": 11,
     "metadata": {},
     "output_type": "execute_result"
    }
   ],
   "source": [
    "suicide_rates_2016 = pd.DataFrame(suicide_rates_GPD.loc[:, ['SuicideRate_2016']])\n",
    "suicide_rates_2016.head()"
   ]
  },
  {
   "cell_type": "code",
   "execution_count": 12,
   "metadata": {},
   "outputs": [
    {
     "data": {
      "text/plain": [
       "SuicideRate_2015    0\n",
       "dtype: int64"
      ]
     },
     "execution_count": 12,
     "metadata": {},
     "output_type": "execute_result"
    }
   ],
   "source": [
    "#make sure these two datasets are clean and there is no missing value\n",
    "suicide_rates_2015.isnull().sum()"
   ]
  },
  {
   "cell_type": "code",
   "execution_count": 13,
   "metadata": {},
   "outputs": [
    {
     "data": {
      "text/plain": [
       "SuicideRate_2016    0\n",
       "dtype: int64"
      ]
     },
     "execution_count": 13,
     "metadata": {},
     "output_type": "execute_result"
    }
   ],
   "source": [
    "suicide_rates_2016.isnull().sum()"
   ]
  },
  {
   "cell_type": "code",
   "execution_count": 14,
   "metadata": {},
   "outputs": [
    {
     "data": {
      "text/plain": [
       "<matplotlib.axes._subplots.AxesSubplot at 0x2548b161b20>"
      ]
     },
     "execution_count": 14,
     "metadata": {},
     "output_type": "execute_result"
    },
    {
     "data": {
      "image/png": "[encoded data removed]",
      "text/plain": [
       "<Figure size 432x288 with 1 Axes>"
      ]
     },
     "metadata": {
      "needs_background": "light"
     },
     "output_type": "display_data"
    }
   ],
   "source": [
    "#let's apply some analysis on suicide rates for 2015 & 2016\n",
    "#apply boxplot to the dataset to explore the min, max, median, & outliers\n",
    "suicide_rates_2015.boxplot()"
   ]
  },
  {
   "cell_type": "code",
   "execution_count": 15,
   "metadata": {},
   "outputs": [
    {
     "data": {
      "text/html": [
       "<div>\n",
       "<style scoped>\n",
       "    .dataframe tbody tr th:only-of-type {\n",
       "        vertical-align: middle;\n",
       "    }\n",
       "\n",
       "    .dataframe tbody tr th {\n",
       "        vertical-align: top;\n",
       "    }\n",
       "\n",
       "    .dataframe thead th {\n",
       "        text-align: right;\n",
       "    }\n",
       "</style>\n",
       "<table border=\"1\" class=\"dataframe\">\n",
       "  <thead>\n",
       "    <tr style=\"text-align: right;\">\n",
       "      <th></th>\n",
       "      <th>SuicideRate_2015</th>\n",
       "    </tr>\n",
       "    <tr>\n",
       "      <th>CountryName</th>\n",
       "      <th></th>\n",
       "    </tr>\n",
       "  </thead>\n",
       "  <tbody>\n",
       "    <tr>\n",
       "      <th>Lithuania</th>\n",
       "      <td>34.9</td>\n",
       "    </tr>\n",
       "    <tr>\n",
       "      <th>Russian Federation</th>\n",
       "      <td>32.1</td>\n",
       "    </tr>\n",
       "    <tr>\n",
       "      <th>Guyana</th>\n",
       "      <td>29.1</td>\n",
       "    </tr>\n",
       "    <tr>\n",
       "      <th>Belarus</th>\n",
       "      <td>26.3</td>\n",
       "    </tr>\n",
       "    <tr>\n",
       "      <th>Kazakhstan</th>\n",
       "      <td>24.9</td>\n",
       "    </tr>\n",
       "  </tbody>\n",
       "</table>\n",
       "</div>"
      ],
      "text/plain": [
       "                    SuicideRate_2015\n",
       "CountryName                         \n",
       "Lithuania                       34.9\n",
       "Russian Federation              32.1\n",
       "Guyana                          29.1\n",
       "Belarus                         26.3\n",
       "Kazakhstan                      24.9"
      ]
     },
     "execution_count": 15,
     "metadata": {},
     "output_type": "execute_result"
    }
   ],
   "source": [
    "#the boxplot shows that the top 5 countries are outliers, which means that the top 5 countries have suicide rate that differ so much from the rest of the world\n",
    "#let's see what are these countries\n",
    "top5_counrties_2015 = suicide_rates_2015.sort_values(by='SuicideRate_2015', ascending=False).head(5)\n",
    "top5_counrties_2015"
   ]
  },
  {
   "cell_type": "code",
   "execution_count": 16,
   "metadata": {},
   "outputs": [],
   "source": [
    "#interesting that 4 of the top 5 countries are in Europe (Kazakhstan locates in Eurasia)"
   ]
  },
  {
   "cell_type": "code",
   "execution_count": 17,
   "metadata": {},
   "outputs": [
    {
     "data": {
      "text/plain": [
       "<matplotlib.axes._subplots.AxesSubplot at 0x2548b8c4100>"
      ]
     },
     "execution_count": 17,
     "metadata": {},
     "output_type": "execute_result"
    },
    {
     "data": {
      "image/png": "[encoded data removed]",
      "text/plain": [
       "<Figure size 432x288 with 1 Axes>"
      ]
     },
     "metadata": {
      "needs_background": "light"
     },
     "output_type": "display_data"
    }
   ],
   "source": [
    "#Let's analyze the suicide rates for 2016 as we did with the suicide rates for 2015 data\n",
    "#apply boxplot to the dataset to explore the min, max, median, & outliers\n",
    "suicide_rates_2016.boxplot()"
   ]
  },
  {
   "cell_type": "code",
   "execution_count": 18,
   "metadata": {},
   "outputs": [],
   "source": [
    "#we can see there was a slight decline in the number of outliers (from 5 to 4), in the max rates (in 2015 the max rate was almost 35 & in 2016 the max rate was almost 32)"
   ]
  },
  {
   "cell_type": "code",
   "execution_count": 19,
   "metadata": {},
   "outputs": [
    {
     "data": {
      "text/html": [
       "<div>\n",
       "<style scoped>\n",
       "    .dataframe tbody tr th:only-of-type {\n",
       "        vertical-align: middle;\n",
       "    }\n",
       "\n",
       "    .dataframe tbody tr th {\n",
       "        vertical-align: top;\n",
       "    }\n",
       "\n",
       "    .dataframe thead th {\n",
       "        text-align: right;\n",
       "    }\n",
       "</style>\n",
       "<table border=\"1\" class=\"dataframe\">\n",
       "  <thead>\n",
       "    <tr style=\"text-align: right;\">\n",
       "      <th></th>\n",
       "      <th>SuicideRate_2016</th>\n",
       "    </tr>\n",
       "    <tr>\n",
       "      <th>CountryName</th>\n",
       "      <th></th>\n",
       "    </tr>\n",
       "  </thead>\n",
       "  <tbody>\n",
       "    <tr>\n",
       "      <th>Lithuania</th>\n",
       "      <td>31.9</td>\n",
       "    </tr>\n",
       "    <tr>\n",
       "      <th>Russian Federation</th>\n",
       "      <td>31.0</td>\n",
       "    </tr>\n",
       "    <tr>\n",
       "      <th>Guyana</th>\n",
       "      <td>29.2</td>\n",
       "    </tr>\n",
       "    <tr>\n",
       "      <th>Belarus</th>\n",
       "      <td>26.2</td>\n",
       "    </tr>\n",
       "    <tr>\n",
       "      <th>Suriname</th>\n",
       "      <td>22.8</td>\n",
       "    </tr>\n",
       "  </tbody>\n",
       "</table>\n",
       "</div>"
      ],
      "text/plain": [
       "                    SuicideRate_2016\n",
       "CountryName                         \n",
       "Lithuania                       31.9\n",
       "Russian Federation              31.0\n",
       "Guyana                          29.2\n",
       "Belarus                         26.2\n",
       "Suriname                        22.8"
      ]
     },
     "execution_count": 19,
     "metadata": {},
     "output_type": "execute_result"
    }
   ],
   "source": [
    "#let's see the top 5 countries for 2016\n",
    "top5_counrties_2016 = suicide_rates_2016.sort_values(by='SuicideRate_2016', ascending=False).head(5)\n",
    "top5_counrties_2016"
   ]
  },
  {
   "cell_type": "code",
   "execution_count": 20,
   "metadata": {},
   "outputs": [],
   "source": [
    "#besides the slight decline in suicide rates for the top 5 countries in 2016, Kazakhstan was not in the top 5 countries\n",
    "#instead Suriname took the 5th place, & as a result, there were 3 counrties from Eurpoe, and 2 from South America"
   ]
  },
  {
   "cell_type": "code",
   "execution_count": 21,
   "metadata": {},
   "outputs": [],
   "source": [
    "#we finished cleaning and suicide rate datasets, let's move to world happiness report datasets\n",
    "#import world happiness report 2015 dataset\n",
    "World_Happiness_Report_2015= pd.read_csv('World_Happiness_Report_2015.csv')"
   ]
  },
  {
   "cell_type": "code",
   "execution_count": 22,
   "metadata": {},
   "outputs": [
    {
     "data": {
      "text/html": [
       "<div>\n",
       "<style scoped>\n",
       "    .dataframe tbody tr th:only-of-type {\n",
       "        vertical-align: middle;\n",
       "    }\n",
       "\n",
       "    .dataframe tbody tr th {\n",
       "        vertical-align: top;\n",
       "    }\n",
       "\n",
       "    .dataframe thead th {\n",
       "        text-align: right;\n",
       "    }\n",
       "</style>\n",
       "<table border=\"1\" class=\"dataframe\">\n",
       "  <thead>\n",
       "    <tr style=\"text-align: right;\">\n",
       "      <th></th>\n",
       "      <th>Country</th>\n",
       "      <th>Region</th>\n",
       "      <th>Happiness Rank</th>\n",
       "      <th>Happiness Score</th>\n",
       "      <th>Standard Error</th>\n",
       "      <th>Economy (GDP per Capita)</th>\n",
       "      <th>Family</th>\n",
       "      <th>Health (Life Expectancy)</th>\n",
       "      <th>Freedom</th>\n",
       "      <th>Trust (Government Corruption)</th>\n",
       "      <th>Generosity</th>\n",
       "      <th>Dystopia Residual</th>\n",
       "    </tr>\n",
       "  </thead>\n",
       "  <tbody>\n",
       "    <tr>\n",
       "      <th>0</th>\n",
       "      <td>Switzerland</td>\n",
       "      <td>Western Europe</td>\n",
       "      <td>1</td>\n",
       "      <td>7.587</td>\n",
       "      <td>0.03411</td>\n",
       "      <td>1.39651</td>\n",
       "      <td>1.34951</td>\n",
       "      <td>0.94143</td>\n",
       "      <td>0.66557</td>\n",
       "      <td>0.41978</td>\n",
       "      <td>0.29678</td>\n",
       "      <td>2.51738</td>\n",
       "    </tr>\n",
       "    <tr>\n",
       "      <th>1</th>\n",
       "      <td>Iceland</td>\n",
       "      <td>Western Europe</td>\n",
       "      <td>2</td>\n",
       "      <td>7.561</td>\n",
       "      <td>0.04884</td>\n",
       "      <td>1.30232</td>\n",
       "      <td>1.40223</td>\n",
       "      <td>0.94784</td>\n",
       "      <td>0.62877</td>\n",
       "      <td>0.14145</td>\n",
       "      <td>0.43630</td>\n",
       "      <td>2.70201</td>\n",
       "    </tr>\n",
       "    <tr>\n",
       "      <th>2</th>\n",
       "      <td>Denmark</td>\n",
       "      <td>Western Europe</td>\n",
       "      <td>3</td>\n",
       "      <td>7.527</td>\n",
       "      <td>0.03328</td>\n",
       "      <td>1.32548</td>\n",
       "      <td>1.36058</td>\n",
       "      <td>0.87464</td>\n",
       "      <td>0.64938</td>\n",
       "      <td>0.48357</td>\n",
       "      <td>0.34139</td>\n",
       "      <td>2.49204</td>\n",
       "    </tr>\n",
       "    <tr>\n",
       "      <th>3</th>\n",
       "      <td>Norway</td>\n",
       "      <td>Western Europe</td>\n",
       "      <td>4</td>\n",
       "      <td>7.522</td>\n",
       "      <td>0.03880</td>\n",
       "      <td>1.45900</td>\n",
       "      <td>1.33095</td>\n",
       "      <td>0.88521</td>\n",
       "      <td>0.66973</td>\n",
       "      <td>0.36503</td>\n",
       "      <td>0.34699</td>\n",
       "      <td>2.46531</td>\n",
       "    </tr>\n",
       "    <tr>\n",
       "      <th>4</th>\n",
       "      <td>Canada</td>\n",
       "      <td>North America</td>\n",
       "      <td>5</td>\n",
       "      <td>7.427</td>\n",
       "      <td>0.03553</td>\n",
       "      <td>1.32629</td>\n",
       "      <td>1.32261</td>\n",
       "      <td>0.90563</td>\n",
       "      <td>0.63297</td>\n",
       "      <td>0.32957</td>\n",
       "      <td>0.45811</td>\n",
       "      <td>2.45176</td>\n",
       "    </tr>\n",
       "  </tbody>\n",
       "</table>\n",
       "</div>"
      ],
      "text/plain": [
       "       Country          Region  Happiness Rank  Happiness Score  \\\n",
       "0  Switzerland  Western Europe               1            7.587   \n",
       "1      Iceland  Western Europe               2            7.561   \n",
       "2      Denmark  Western Europe               3            7.527   \n",
       "3       Norway  Western Europe               4            7.522   \n",
       "4       Canada   North America               5            7.427   \n",
       "\n",
       "   Standard Error  Economy (GDP per Capita)   Family  \\\n",
       "0         0.03411                   1.39651  1.34951   \n",
       "1         0.04884                   1.30232  1.40223   \n",
       "2         0.03328                   1.32548  1.36058   \n",
       "3         0.03880                   1.45900  1.33095   \n",
       "4         0.03553                   1.32629  1.32261   \n",
       "\n",
       "   Health (Life Expectancy)  Freedom  Trust (Government Corruption)  \\\n",
       "0                   0.94143  0.66557                        0.41978   \n",
       "1                   0.94784  0.62877                        0.14145   \n",
       "2                   0.87464  0.64938                        0.48357   \n",
       "3                   0.88521  0.66973                        0.36503   \n",
       "4                   0.90563  0.63297                        0.32957   \n",
       "\n",
       "   Generosity  Dystopia Residual  \n",
       "0     0.29678            2.51738  \n",
       "1     0.43630            2.70201  \n",
       "2     0.34139            2.49204  \n",
       "3     0.34699            2.46531  \n",
       "4     0.45811            2.45176  "
      ]
     },
     "execution_count": 22,
     "metadata": {},
     "output_type": "execute_result"
    }
   ],
   "source": [
    "#explore the dataset\n",
    "#see the first 5 rows\n",
    "World_Happiness_Report_2015.head()"
   ]
  },
  {
   "cell_type": "code",
   "execution_count": 23,
   "metadata": {},
   "outputs": [
    {
     "data": {
      "text/plain": [
       "(158, 12)"
      ]
     },
     "execution_count": 23,
     "metadata": {},
     "output_type": "execute_result"
    }
   ],
   "source": [
    "#see the number of columns & rows \n",
    "World_Happiness_Report_2015.shape"
   ]
  },
  {
   "cell_type": "code",
   "execution_count": 24,
   "metadata": {},
   "outputs": [
    {
     "name": "stdout",
     "output_type": "stream",
     "text": [
      "<class 'pandas.core.frame.DataFrame'>\n",
      "RangeIndex: 158 entries, 0 to 157\n",
      "Data columns (total 12 columns):\n",
      " #   Column                         Non-Null Count  Dtype  \n",
      "---  ------                         --------------  -----  \n",
      " 0   Country                        158 non-null    object \n",
      " 1   Region                         158 non-null    object \n",
      " 2   Happiness Rank                 158 non-null    int64  \n",
      " 3   Happiness Score                158 non-null    float64\n",
      " 4   Standard Error                 158 non-null    float64\n",
      " 5   Economy (GDP per Capita)       158 non-null    float64\n",
      " 6   Family                         158 non-null    float64\n",
      " 7   Health (Life Expectancy)       158 non-null    float64\n",
      " 8   Freedom                        158 non-null    float64\n",
      " 9   Trust (Government Corruption)  158 non-null    float64\n",
      " 10  Generosity                     158 non-null    float64\n",
      " 11  Dystopia Residual              158 non-null    float64\n",
      "dtypes: float64(9), int64(1), object(2)\n",
      "memory usage: 14.9+ KB\n"
     ]
    }
   ],
   "source": [
    "#see details about the columns\n",
    "World_Happiness_Report_2015.info()"
   ]
  },
  {
   "cell_type": "code",
   "execution_count": 25,
   "metadata": {},
   "outputs": [
    {
     "data": {
      "text/plain": [
       "Country                          0\n",
       "Region                           0\n",
       "Happiness Rank                   0\n",
       "Happiness Score                  0\n",
       "Standard Error                   0\n",
       "Economy (GDP per Capita)         0\n",
       "Family                           0\n",
       "Health (Life Expectancy)         0\n",
       "Freedom                          0\n",
       "Trust (Government Corruption)    0\n",
       "Generosity                       0\n",
       "Dystopia Residual                0\n",
       "dtype: int64"
      ]
     },
     "execution_count": 25,
     "metadata": {},
     "output_type": "execute_result"
    }
   ],
   "source": [
    "#see if there is missing value\n",
    "World_Happiness_Report_2015.isnull().sum()"
   ]
  },
  {
   "cell_type": "code",
   "execution_count": 26,
   "metadata": {},
   "outputs": [],
   "source": [
    "#clean the data\n",
    "#remove the unnecessary columns \n",
    "World_Happiness_Report_2015.drop(['Region','Happiness Rank', 'Standard Error', 'Dystopia Residual'], axis=1, inplace=True)"
   ]
  },
  {
   "cell_type": "code",
   "execution_count": 27,
   "metadata": {},
   "outputs": [],
   "source": [
    "#make the country name columns the index so we can join the datasets after\n",
    "World_Happiness_Report_2015.set_index('Country', inplace=True)"
   ]
  },
  {
   "cell_type": "code",
   "execution_count": 28,
   "metadata": {},
   "outputs": [
    {
     "data": {
      "text/html": [
       "<div>\n",
       "<style scoped>\n",
       "    .dataframe tbody tr th:only-of-type {\n",
       "        vertical-align: middle;\n",
       "    }\n",
       "\n",
       "    .dataframe tbody tr th {\n",
       "        vertical-align: top;\n",
       "    }\n",
       "\n",
       "    .dataframe thead th {\n",
       "        text-align: right;\n",
       "    }\n",
       "</style>\n",
       "<table border=\"1\" class=\"dataframe\">\n",
       "  <thead>\n",
       "    <tr style=\"text-align: right;\">\n",
       "      <th></th>\n",
       "      <th>Happiness Score</th>\n",
       "      <th>Economy (GDP per Capita)</th>\n",
       "      <th>Family</th>\n",
       "      <th>Health (Life Expectancy)</th>\n",
       "      <th>Freedom</th>\n",
       "      <th>Trust (Government Corruption)</th>\n",
       "      <th>Generosity</th>\n",
       "    </tr>\n",
       "    <tr>\n",
       "      <th>Country</th>\n",
       "      <th></th>\n",
       "      <th></th>\n",
       "      <th></th>\n",
       "      <th></th>\n",
       "      <th></th>\n",
       "      <th></th>\n",
       "      <th></th>\n",
       "    </tr>\n",
       "  </thead>\n",
       "  <tbody>\n",
       "    <tr>\n",
       "      <th>Switzerland</th>\n",
       "      <td>7.587</td>\n",
       "      <td>1.39651</td>\n",
       "      <td>1.34951</td>\n",
       "      <td>0.94143</td>\n",
       "      <td>0.66557</td>\n",
       "      <td>0.41978</td>\n",
       "      <td>0.29678</td>\n",
       "    </tr>\n",
       "    <tr>\n",
       "      <th>Iceland</th>\n",
       "      <td>7.561</td>\n",
       "      <td>1.30232</td>\n",
       "      <td>1.40223</td>\n",
       "      <td>0.94784</td>\n",
       "      <td>0.62877</td>\n",
       "      <td>0.14145</td>\n",
       "      <td>0.43630</td>\n",
       "    </tr>\n",
       "    <tr>\n",
       "      <th>Denmark</th>\n",
       "      <td>7.527</td>\n",
       "      <td>1.32548</td>\n",
       "      <td>1.36058</td>\n",
       "      <td>0.87464</td>\n",
       "      <td>0.64938</td>\n",
       "      <td>0.48357</td>\n",
       "      <td>0.34139</td>\n",
       "    </tr>\n",
       "    <tr>\n",
       "      <th>Norway</th>\n",
       "      <td>7.522</td>\n",
       "      <td>1.45900</td>\n",
       "      <td>1.33095</td>\n",
       "      <td>0.88521</td>\n",
       "      <td>0.66973</td>\n",
       "      <td>0.36503</td>\n",
       "      <td>0.34699</td>\n",
       "    </tr>\n",
       "    <tr>\n",
       "      <th>Canada</th>\n",
       "      <td>7.427</td>\n",
       "      <td>1.32629</td>\n",
       "      <td>1.32261</td>\n",
       "      <td>0.90563</td>\n",
       "      <td>0.63297</td>\n",
       "      <td>0.32957</td>\n",
       "      <td>0.45811</td>\n",
       "    </tr>\n",
       "  </tbody>\n",
       "</table>\n",
       "</div>"
      ],
      "text/plain": [
       "             Happiness Score  Economy (GDP per Capita)   Family  \\\n",
       "Country                                                           \n",
       "Switzerland            7.587                   1.39651  1.34951   \n",
       "Iceland                7.561                   1.30232  1.40223   \n",
       "Denmark                7.527                   1.32548  1.36058   \n",
       "Norway                 7.522                   1.45900  1.33095   \n",
       "Canada                 7.427                   1.32629  1.32261   \n",
       "\n",
       "             Health (Life Expectancy)  Freedom  Trust (Government Corruption)  \\\n",
       "Country                                                                         \n",
       "Switzerland                   0.94143  0.66557                        0.41978   \n",
       "Iceland                       0.94784  0.62877                        0.14145   \n",
       "Denmark                       0.87464  0.64938                        0.48357   \n",
       "Norway                        0.88521  0.66973                        0.36503   \n",
       "Canada                        0.90563  0.63297                        0.32957   \n",
       "\n",
       "             Generosity  \n",
       "Country                  \n",
       "Switzerland     0.29678  \n",
       "Iceland         0.43630  \n",
       "Denmark         0.34139  \n",
       "Norway          0.34699  \n",
       "Canada          0.45811  "
      ]
     },
     "execution_count": 28,
     "metadata": {},
     "output_type": "execute_result"
    }
   ],
   "source": [
    "#see how the dataset look like after cleaning\n",
    "World_Happiness_Report_2015.head()"
   ]
  },
  {
   "cell_type": "code",
   "execution_count": 29,
   "metadata": {},
   "outputs": [
    {
     "data": {
      "text/plain": [
       "(158, 7)"
      ]
     },
     "execution_count": 29,
     "metadata": {},
     "output_type": "execute_result"
    }
   ],
   "source": [
    "World_Happiness_Report_2015.shape"
   ]
  },
  {
   "cell_type": "code",
   "execution_count": 30,
   "metadata": {},
   "outputs": [],
   "source": [
    "#import world happiness report 2016 dataset\n",
    "World_Happiness_Report_2016= pd.read_csv('World_Happiness_Report_2016.csv')"
   ]
  },
  {
   "cell_type": "code",
   "execution_count": 31,
   "metadata": {},
   "outputs": [
    {
     "data": {
      "text/html": [
       "<div>\n",
       "<style scoped>\n",
       "    .dataframe tbody tr th:only-of-type {\n",
       "        vertical-align: middle;\n",
       "    }\n",
       "\n",
       "    .dataframe tbody tr th {\n",
       "        vertical-align: top;\n",
       "    }\n",
       "\n",
       "    .dataframe thead th {\n",
       "        text-align: right;\n",
       "    }\n",
       "</style>\n",
       "<table border=\"1\" class=\"dataframe\">\n",
       "  <thead>\n",
       "    <tr style=\"text-align: right;\">\n",
       "      <th></th>\n",
       "      <th>Country</th>\n",
       "      <th>Region</th>\n",
       "      <th>Happiness Rank</th>\n",
       "      <th>Happiness Score</th>\n",
       "      <th>Lower Confidence Interval</th>\n",
       "      <th>Upper Confidence Interval</th>\n",
       "      <th>Economy (GDP per Capita)</th>\n",
       "      <th>Family</th>\n",
       "      <th>Health (Life Expectancy)</th>\n",
       "      <th>Freedom</th>\n",
       "      <th>Trust (Government Corruption)</th>\n",
       "      <th>Generosity</th>\n",
       "      <th>Dystopia Residual</th>\n",
       "    </tr>\n",
       "  </thead>\n",
       "  <tbody>\n",
       "    <tr>\n",
       "      <th>0</th>\n",
       "      <td>Denmark</td>\n",
       "      <td>Western Europe</td>\n",
       "      <td>1</td>\n",
       "      <td>7.526</td>\n",
       "      <td>7.460</td>\n",
       "      <td>7.592</td>\n",
       "      <td>1.44178</td>\n",
       "      <td>1.16374</td>\n",
       "      <td>0.79504</td>\n",
       "      <td>0.57941</td>\n",
       "      <td>0.44453</td>\n",
       "      <td>0.36171</td>\n",
       "      <td>2.73939</td>\n",
       "    </tr>\n",
       "    <tr>\n",
       "      <th>1</th>\n",
       "      <td>Switzerland</td>\n",
       "      <td>Western Europe</td>\n",
       "      <td>2</td>\n",
       "      <td>7.509</td>\n",
       "      <td>7.428</td>\n",
       "      <td>7.590</td>\n",
       "      <td>1.52733</td>\n",
       "      <td>1.14524</td>\n",
       "      <td>0.86303</td>\n",
       "      <td>0.58557</td>\n",
       "      <td>0.41203</td>\n",
       "      <td>0.28083</td>\n",
       "      <td>2.69463</td>\n",
       "    </tr>\n",
       "    <tr>\n",
       "      <th>2</th>\n",
       "      <td>Iceland</td>\n",
       "      <td>Western Europe</td>\n",
       "      <td>3</td>\n",
       "      <td>7.501</td>\n",
       "      <td>7.333</td>\n",
       "      <td>7.669</td>\n",
       "      <td>1.42666</td>\n",
       "      <td>1.18326</td>\n",
       "      <td>0.86733</td>\n",
       "      <td>0.56624</td>\n",
       "      <td>0.14975</td>\n",
       "      <td>0.47678</td>\n",
       "      <td>2.83137</td>\n",
       "    </tr>\n",
       "    <tr>\n",
       "      <th>3</th>\n",
       "      <td>Norway</td>\n",
       "      <td>Western Europe</td>\n",
       "      <td>4</td>\n",
       "      <td>7.498</td>\n",
       "      <td>7.421</td>\n",
       "      <td>7.575</td>\n",
       "      <td>1.57744</td>\n",
       "      <td>1.12690</td>\n",
       "      <td>0.79579</td>\n",
       "      <td>0.59609</td>\n",
       "      <td>0.35776</td>\n",
       "      <td>0.37895</td>\n",
       "      <td>2.66465</td>\n",
       "    </tr>\n",
       "    <tr>\n",
       "      <th>4</th>\n",
       "      <td>Finland</td>\n",
       "      <td>Western Europe</td>\n",
       "      <td>5</td>\n",
       "      <td>7.413</td>\n",
       "      <td>7.351</td>\n",
       "      <td>7.475</td>\n",
       "      <td>1.40598</td>\n",
       "      <td>1.13464</td>\n",
       "      <td>0.81091</td>\n",
       "      <td>0.57104</td>\n",
       "      <td>0.41004</td>\n",
       "      <td>0.25492</td>\n",
       "      <td>2.82596</td>\n",
       "    </tr>\n",
       "  </tbody>\n",
       "</table>\n",
       "</div>"
      ],
      "text/plain": [
       "       Country          Region  Happiness Rank  Happiness Score  \\\n",
       "0      Denmark  Western Europe               1            7.526   \n",
       "1  Switzerland  Western Europe               2            7.509   \n",
       "2      Iceland  Western Europe               3            7.501   \n",
       "3       Norway  Western Europe               4            7.498   \n",
       "4      Finland  Western Europe               5            7.413   \n",
       "\n",
       "   Lower Confidence Interval  Upper Confidence Interval  \\\n",
       "0                      7.460                      7.592   \n",
       "1                      7.428                      7.590   \n",
       "2                      7.333                      7.669   \n",
       "3                      7.421                      7.575   \n",
       "4                      7.351                      7.475   \n",
       "\n",
       "   Economy (GDP per Capita)   Family  Health (Life Expectancy)  Freedom  \\\n",
       "0                   1.44178  1.16374                   0.79504  0.57941   \n",
       "1                   1.52733  1.14524                   0.86303  0.58557   \n",
       "2                   1.42666  1.18326                   0.86733  0.56624   \n",
       "3                   1.57744  1.12690                   0.79579  0.59609   \n",
       "4                   1.40598  1.13464                   0.81091  0.57104   \n",
       "\n",
       "   Trust (Government Corruption)  Generosity  Dystopia Residual  \n",
       "0                        0.44453     0.36171            2.73939  \n",
       "1                        0.41203     0.28083            2.69463  \n",
       "2                        0.14975     0.47678            2.83137  \n",
       "3                        0.35776     0.37895            2.66465  \n",
       "4                        0.41004     0.25492            2.82596  "
      ]
     },
     "execution_count": 31,
     "metadata": {},
     "output_type": "execute_result"
    }
   ],
   "source": [
    "#explore the dataset\n",
    "#see the first 5 rows\n",
    "World_Happiness_Report_2016.head()"
   ]
  },
  {
   "cell_type": "code",
   "execution_count": 32,
   "metadata": {},
   "outputs": [
    {
     "data": {
      "text/plain": [
       "(157, 13)"
      ]
     },
     "execution_count": 32,
     "metadata": {},
     "output_type": "execute_result"
    }
   ],
   "source": [
    "#see the number of columns & rows \n",
    "World_Happiness_Report_2016.shape"
   ]
  },
  {
   "cell_type": "code",
   "execution_count": 33,
   "metadata": {},
   "outputs": [
    {
     "name": "stdout",
     "output_type": "stream",
     "text": [
      "<class 'pandas.core.frame.DataFrame'>\n",
      "RangeIndex: 157 entries, 0 to 156\n",
      "Data columns (total 13 columns):\n",
      " #   Column                         Non-Null Count  Dtype  \n",
      "---  ------                         --------------  -----  \n",
      " 0   Country                        157 non-null    object \n",
      " 1   Region                         157 non-null    object \n",
      " 2   Happiness Rank                 157 non-null    int64  \n",
      " 3   Happiness Score                157 non-null    float64\n",
      " 4   Lower Confidence Interval      157 non-null    float64\n",
      " 5   Upper Confidence Interval      157 non-null    float64\n",
      " 6   Economy (GDP per Capita)       157 non-null    float64\n",
      " 7   Family                         157 non-null    float64\n",
      " 8   Health (Life Expectancy)       157 non-null    float64\n",
      " 9   Freedom                        157 non-null    float64\n",
      " 10  Trust (Government Corruption)  157 non-null    float64\n",
      " 11  Generosity                     157 non-null    float64\n",
      " 12  Dystopia Residual              157 non-null    float64\n",
      "dtypes: float64(10), int64(1), object(2)\n",
      "memory usage: 16.1+ KB\n"
     ]
    }
   ],
   "source": [
    "#see details about the columns\n",
    "World_Happiness_Report_2016.info()"
   ]
  },
  {
   "cell_type": "code",
   "execution_count": 34,
   "metadata": {},
   "outputs": [
    {
     "data": {
      "text/plain": [
       "Country                          0\n",
       "Region                           0\n",
       "Happiness Rank                   0\n",
       "Happiness Score                  0\n",
       "Lower Confidence Interval        0\n",
       "Upper Confidence Interval        0\n",
       "Economy (GDP per Capita)         0\n",
       "Family                           0\n",
       "Health (Life Expectancy)         0\n",
       "Freedom                          0\n",
       "Trust (Government Corruption)    0\n",
       "Generosity                       0\n",
       "Dystopia Residual                0\n",
       "dtype: int64"
      ]
     },
     "execution_count": 34,
     "metadata": {},
     "output_type": "execute_result"
    }
   ],
   "source": [
    "#see if there is missing value\n",
    "World_Happiness_Report_2016.isnull().sum()"
   ]
  },
  {
   "cell_type": "code",
   "execution_count": 35,
   "metadata": {},
   "outputs": [],
   "source": [
    "#clean the data\n",
    "#remove the unnecessary columns \n",
    "World_Happiness_Report_2016.drop(['Region', 'Happiness Rank', 'Lower Confidence Interval','Upper Confidence Interval', 'Dystopia Residual'], axis=1, inplace=True)"
   ]
  },
  {
   "cell_type": "code",
   "execution_count": 36,
   "metadata": {},
   "outputs": [],
   "source": [
    "#make the country name columns the index so we can join the datasets after\n",
    "World_Happiness_Report_2016.set_index('Country', inplace=True)"
   ]
  },
  {
   "cell_type": "code",
   "execution_count": 37,
   "metadata": {},
   "outputs": [
    {
     "data": {
      "text/html": [
       "<div>\n",
       "<style scoped>\n",
       "    .dataframe tbody tr th:only-of-type {\n",
       "        vertical-align: middle;\n",
       "    }\n",
       "\n",
       "    .dataframe tbody tr th {\n",
       "        vertical-align: top;\n",
       "    }\n",
       "\n",
       "    .dataframe thead th {\n",
       "        text-align: right;\n",
       "    }\n",
       "</style>\n",
       "<table border=\"1\" class=\"dataframe\">\n",
       "  <thead>\n",
       "    <tr style=\"text-align: right;\">\n",
       "      <th></th>\n",
       "      <th>Happiness Score</th>\n",
       "      <th>Economy (GDP per Capita)</th>\n",
       "      <th>Family</th>\n",
       "      <th>Health (Life Expectancy)</th>\n",
       "      <th>Freedom</th>\n",
       "      <th>Trust (Government Corruption)</th>\n",
       "      <th>Generosity</th>\n",
       "    </tr>\n",
       "    <tr>\n",
       "      <th>Country</th>\n",
       "      <th></th>\n",
       "      <th></th>\n",
       "      <th></th>\n",
       "      <th></th>\n",
       "      <th></th>\n",
       "      <th></th>\n",
       "      <th></th>\n",
       "    </tr>\n",
       "  </thead>\n",
       "  <tbody>\n",
       "    <tr>\n",
       "      <th>Denmark</th>\n",
       "      <td>7.526</td>\n",
       "      <td>1.44178</td>\n",
       "      <td>1.16374</td>\n",
       "      <td>0.79504</td>\n",
       "      <td>0.57941</td>\n",
       "      <td>0.44453</td>\n",
       "      <td>0.36171</td>\n",
       "    </tr>\n",
       "    <tr>\n",
       "      <th>Switzerland</th>\n",
       "      <td>7.509</td>\n",
       "      <td>1.52733</td>\n",
       "      <td>1.14524</td>\n",
       "      <td>0.86303</td>\n",
       "      <td>0.58557</td>\n",
       "      <td>0.41203</td>\n",
       "      <td>0.28083</td>\n",
       "    </tr>\n",
       "    <tr>\n",
       "      <th>Iceland</th>\n",
       "      <td>7.501</td>\n",
       "      <td>1.42666</td>\n",
       "      <td>1.18326</td>\n",
       "      <td>0.86733</td>\n",
       "      <td>0.56624</td>\n",
       "      <td>0.14975</td>\n",
       "      <td>0.47678</td>\n",
       "    </tr>\n",
       "    <tr>\n",
       "      <th>Norway</th>\n",
       "      <td>7.498</td>\n",
       "      <td>1.57744</td>\n",
       "      <td>1.12690</td>\n",
       "      <td>0.79579</td>\n",
       "      <td>0.59609</td>\n",
       "      <td>0.35776</td>\n",
       "      <td>0.37895</td>\n",
       "    </tr>\n",
       "    <tr>\n",
       "      <th>Finland</th>\n",
       "      <td>7.413</td>\n",
       "      <td>1.40598</td>\n",
       "      <td>1.13464</td>\n",
       "      <td>0.81091</td>\n",
       "      <td>0.57104</td>\n",
       "      <td>0.41004</td>\n",
       "      <td>0.25492</td>\n",
       "    </tr>\n",
       "  </tbody>\n",
       "</table>\n",
       "</div>"
      ],
      "text/plain": [
       "             Happiness Score  Economy (GDP per Capita)   Family  \\\n",
       "Country                                                           \n",
       "Denmark                7.526                   1.44178  1.16374   \n",
       "Switzerland            7.509                   1.52733  1.14524   \n",
       "Iceland                7.501                   1.42666  1.18326   \n",
       "Norway                 7.498                   1.57744  1.12690   \n",
       "Finland                7.413                   1.40598  1.13464   \n",
       "\n",
       "             Health (Life Expectancy)  Freedom  Trust (Government Corruption)  \\\n",
       "Country                                                                         \n",
       "Denmark                       0.79504  0.57941                        0.44453   \n",
       "Switzerland                   0.86303  0.58557                        0.41203   \n",
       "Iceland                       0.86733  0.56624                        0.14975   \n",
       "Norway                        0.79579  0.59609                        0.35776   \n",
       "Finland                       0.81091  0.57104                        0.41004   \n",
       "\n",
       "             Generosity  \n",
       "Country                  \n",
       "Denmark         0.36171  \n",
       "Switzerland     0.28083  \n",
       "Iceland         0.47678  \n",
       "Norway          0.37895  \n",
       "Finland         0.25492  "
      ]
     },
     "execution_count": 37,
     "metadata": {},
     "output_type": "execute_result"
    }
   ],
   "source": [
    "#see how the dataset look like after cleaning\n",
    "World_Happiness_Report_2016.head()"
   ]
  },
  {
   "cell_type": "code",
   "execution_count": 38,
   "metadata": {},
   "outputs": [
    {
     "data": {
      "text/plain": [
       "(157, 7)"
      ]
     },
     "execution_count": 38,
     "metadata": {},
     "output_type": "execute_result"
    }
   ],
   "source": [
    "World_Happiness_Report_2016.shape"
   ]
  },
  {
   "cell_type": "code",
   "execution_count": 39,
   "metadata": {},
   "outputs": [
    {
     "data": {
      "text/html": [
       "<div>\n",
       "<style scoped>\n",
       "    .dataframe tbody tr th:only-of-type {\n",
       "        vertical-align: middle;\n",
       "    }\n",
       "\n",
       "    .dataframe tbody tr th {\n",
       "        vertical-align: top;\n",
       "    }\n",
       "\n",
       "    .dataframe thead th {\n",
       "        text-align: right;\n",
       "    }\n",
       "</style>\n",
       "<table border=\"1\" class=\"dataframe\">\n",
       "  <thead>\n",
       "    <tr style=\"text-align: right;\">\n",
       "      <th></th>\n",
       "      <th>Happiness Score</th>\n",
       "      <th>Economy (GDP per Capita)</th>\n",
       "      <th>Family</th>\n",
       "      <th>Health (Life Expectancy)</th>\n",
       "      <th>Freedom</th>\n",
       "      <th>Trust (Government Corruption)</th>\n",
       "      <th>Generosity</th>\n",
       "      <th>SuicideRate_2015</th>\n",
       "    </tr>\n",
       "  </thead>\n",
       "  <tbody>\n",
       "    <tr>\n",
       "      <th>Switzerland</th>\n",
       "      <td>7.587</td>\n",
       "      <td>1.39651</td>\n",
       "      <td>1.34951</td>\n",
       "      <td>0.94143</td>\n",
       "      <td>0.66557</td>\n",
       "      <td>0.41978</td>\n",
       "      <td>0.29678</td>\n",
       "      <td>17.1</td>\n",
       "    </tr>\n",
       "    <tr>\n",
       "      <th>Iceland</th>\n",
       "      <td>7.561</td>\n",
       "      <td>1.30232</td>\n",
       "      <td>1.40223</td>\n",
       "      <td>0.94784</td>\n",
       "      <td>0.62877</td>\n",
       "      <td>0.14145</td>\n",
       "      <td>0.43630</td>\n",
       "      <td>14.0</td>\n",
       "    </tr>\n",
       "    <tr>\n",
       "      <th>Denmark</th>\n",
       "      <td>7.527</td>\n",
       "      <td>1.32548</td>\n",
       "      <td>1.36058</td>\n",
       "      <td>0.87464</td>\n",
       "      <td>0.64938</td>\n",
       "      <td>0.48357</td>\n",
       "      <td>0.34139</td>\n",
       "      <td>11.9</td>\n",
       "    </tr>\n",
       "    <tr>\n",
       "      <th>Norway</th>\n",
       "      <td>7.522</td>\n",
       "      <td>1.45900</td>\n",
       "      <td>1.33095</td>\n",
       "      <td>0.88521</td>\n",
       "      <td>0.66973</td>\n",
       "      <td>0.36503</td>\n",
       "      <td>0.34699</td>\n",
       "      <td>12.4</td>\n",
       "    </tr>\n",
       "    <tr>\n",
       "      <th>Canada</th>\n",
       "      <td>7.427</td>\n",
       "      <td>1.32629</td>\n",
       "      <td>1.32261</td>\n",
       "      <td>0.90563</td>\n",
       "      <td>0.63297</td>\n",
       "      <td>0.32957</td>\n",
       "      <td>0.45811</td>\n",
       "      <td>12.5</td>\n",
       "    </tr>\n",
       "  </tbody>\n",
       "</table>\n",
       "</div>"
      ],
      "text/plain": [
       "             Happiness Score  Economy (GDP per Capita)   Family  \\\n",
       "Switzerland            7.587                   1.39651  1.34951   \n",
       "Iceland                7.561                   1.30232  1.40223   \n",
       "Denmark                7.527                   1.32548  1.36058   \n",
       "Norway                 7.522                   1.45900  1.33095   \n",
       "Canada                 7.427                   1.32629  1.32261   \n",
       "\n",
       "             Health (Life Expectancy)  Freedom  Trust (Government Corruption)  \\\n",
       "Switzerland                   0.94143  0.66557                        0.41978   \n",
       "Iceland                       0.94784  0.62877                        0.14145   \n",
       "Denmark                       0.87464  0.64938                        0.48357   \n",
       "Norway                        0.88521  0.66973                        0.36503   \n",
       "Canada                        0.90563  0.63297                        0.32957   \n",
       "\n",
       "             Generosity  SuicideRate_2015  \n",
       "Switzerland     0.29678              17.1  \n",
       "Iceland         0.43630              14.0  \n",
       "Denmark         0.34139              11.9  \n",
       "Norway          0.34699              12.4  \n",
       "Canada          0.45811              12.5  "
      ]
     },
     "execution_count": 39,
     "metadata": {},
     "output_type": "execute_result"
    }
   ],
   "source": [
    "#now we need to merge the datasets for 2015 in one dataset & the datasets for 2016 in another dataset, so we will have 2 datasets,\n",
    "#one for suicide rates & happiness report for 2015 dataset & the other one for suicide rates & happiness report for 2016 dataset\n",
    "suiciderate_happiness_report_2015 = World_Happiness_Report_2015.join(suicide_rates_2015, how='inner')\n",
    "suiciderate_happiness_report_2015.head()"
   ]
  },
  {
   "cell_type": "code",
   "execution_count": 40,
   "metadata": {},
   "outputs": [
    {
     "data": {
      "text/html": [
       "<div>\n",
       "<style scoped>\n",
       "    .dataframe tbody tr th:only-of-type {\n",
       "        vertical-align: middle;\n",
       "    }\n",
       "\n",
       "    .dataframe tbody tr th {\n",
       "        vertical-align: top;\n",
       "    }\n",
       "\n",
       "    .dataframe thead th {\n",
       "        text-align: right;\n",
       "    }\n",
       "</style>\n",
       "<table border=\"1\" class=\"dataframe\">\n",
       "  <thead>\n",
       "    <tr style=\"text-align: right;\">\n",
       "      <th></th>\n",
       "      <th>Happiness Score</th>\n",
       "      <th>Economy (GDP per Capita)</th>\n",
       "      <th>Family</th>\n",
       "      <th>Health (Life Expectancy)</th>\n",
       "      <th>Freedom</th>\n",
       "      <th>Trust (Government Corruption)</th>\n",
       "      <th>Generosity</th>\n",
       "      <th>SuicideRate_2016</th>\n",
       "    </tr>\n",
       "  </thead>\n",
       "  <tbody>\n",
       "    <tr>\n",
       "      <th>Denmark</th>\n",
       "      <td>7.526</td>\n",
       "      <td>1.44178</td>\n",
       "      <td>1.16374</td>\n",
       "      <td>0.79504</td>\n",
       "      <td>0.57941</td>\n",
       "      <td>0.44453</td>\n",
       "      <td>0.36171</td>\n",
       "      <td>12.8</td>\n",
       "    </tr>\n",
       "    <tr>\n",
       "      <th>Switzerland</th>\n",
       "      <td>7.509</td>\n",
       "      <td>1.52733</td>\n",
       "      <td>1.14524</td>\n",
       "      <td>0.86303</td>\n",
       "      <td>0.58557</td>\n",
       "      <td>0.41203</td>\n",
       "      <td>0.28083</td>\n",
       "      <td>17.2</td>\n",
       "    </tr>\n",
       "    <tr>\n",
       "      <th>Iceland</th>\n",
       "      <td>7.501</td>\n",
       "      <td>1.42666</td>\n",
       "      <td>1.18326</td>\n",
       "      <td>0.86733</td>\n",
       "      <td>0.56624</td>\n",
       "      <td>0.14975</td>\n",
       "      <td>0.47678</td>\n",
       "      <td>14.0</td>\n",
       "    </tr>\n",
       "    <tr>\n",
       "      <th>Norway</th>\n",
       "      <td>7.498</td>\n",
       "      <td>1.57744</td>\n",
       "      <td>1.12690</td>\n",
       "      <td>0.79579</td>\n",
       "      <td>0.59609</td>\n",
       "      <td>0.35776</td>\n",
       "      <td>0.37895</td>\n",
       "      <td>12.2</td>\n",
       "    </tr>\n",
       "    <tr>\n",
       "      <th>Finland</th>\n",
       "      <td>7.413</td>\n",
       "      <td>1.40598</td>\n",
       "      <td>1.13464</td>\n",
       "      <td>0.81091</td>\n",
       "      <td>0.57104</td>\n",
       "      <td>0.41004</td>\n",
       "      <td>0.25492</td>\n",
       "      <td>15.9</td>\n",
       "    </tr>\n",
       "  </tbody>\n",
       "</table>\n",
       "</div>"
      ],
      "text/plain": [
       "             Happiness Score  Economy (GDP per Capita)   Family  \\\n",
       "Denmark                7.526                   1.44178  1.16374   \n",
       "Switzerland            7.509                   1.52733  1.14524   \n",
       "Iceland                7.501                   1.42666  1.18326   \n",
       "Norway                 7.498                   1.57744  1.12690   \n",
       "Finland                7.413                   1.40598  1.13464   \n",
       "\n",
       "             Health (Life Expectancy)  Freedom  Trust (Government Corruption)  \\\n",
       "Denmark                       0.79504  0.57941                        0.44453   \n",
       "Switzerland                   0.86303  0.58557                        0.41203   \n",
       "Iceland                       0.86733  0.56624                        0.14975   \n",
       "Norway                        0.79579  0.59609                        0.35776   \n",
       "Finland                       0.81091  0.57104                        0.41004   \n",
       "\n",
       "             Generosity  SuicideRate_2016  \n",
       "Denmark         0.36171              12.8  \n",
       "Switzerland     0.28083              17.2  \n",
       "Iceland         0.47678              14.0  \n",
       "Norway          0.37895              12.2  \n",
       "Finland         0.25492              15.9  "
      ]
     },
     "execution_count": 40,
     "metadata": {},
     "output_type": "execute_result"
    }
   ],
   "source": [
    "suiciderate_happiness_report_2016 = World_Happiness_Report_2016.join(suicide_rates_2016, how='inner')\n",
    "suiciderate_happiness_report_2016.head()"
   ]
  },
  {
   "cell_type": "code",
   "execution_count": 41,
   "metadata": {},
   "outputs": [],
   "source": [
    "#now we have 2 datasets, suicide rate & happiness report for 2015 datset & suicide rate & happiness report for 2016 datset\n",
    "#now everything is ready for apply some inferential analysis"
   ]
  },
  {
   "cell_type": "code",
   "execution_count": 42,
   "metadata": {},
   "outputs": [
    {
     "data": {
      "text/html": [
       "<div>\n",
       "<style scoped>\n",
       "    .dataframe tbody tr th:only-of-type {\n",
       "        vertical-align: middle;\n",
       "    }\n",
       "\n",
       "    .dataframe tbody tr th {\n",
       "        vertical-align: top;\n",
       "    }\n",
       "\n",
       "    .dataframe thead th {\n",
       "        text-align: right;\n",
       "    }\n",
       "</style>\n",
       "<table border=\"1\" class=\"dataframe\">\n",
       "  <thead>\n",
       "    <tr style=\"text-align: right;\">\n",
       "      <th></th>\n",
       "      <th>Happiness Score</th>\n",
       "      <th>Economy (GDP per Capita)</th>\n",
       "      <th>Family</th>\n",
       "      <th>Health (Life Expectancy)</th>\n",
       "      <th>Freedom</th>\n",
       "      <th>Trust (Government Corruption)</th>\n",
       "      <th>Generosity</th>\n",
       "      <th>SuicideRate_2015</th>\n",
       "    </tr>\n",
       "  </thead>\n",
       "  <tbody>\n",
       "    <tr>\n",
       "      <th>Happiness Score</th>\n",
       "      <td>1.000000</td>\n",
       "      <td>0.805143</td>\n",
       "      <td>0.736501</td>\n",
       "      <td>0.752312</td>\n",
       "      <td>0.584813</td>\n",
       "      <td>0.460282</td>\n",
       "      <td>0.244304</td>\n",
       "      <td>0.249692</td>\n",
       "    </tr>\n",
       "    <tr>\n",
       "      <th>Economy (GDP per Capita)</th>\n",
       "      <td>0.805143</td>\n",
       "      <td>1.000000</td>\n",
       "      <td>0.684385</td>\n",
       "      <td>0.823475</td>\n",
       "      <td>0.392212</td>\n",
       "      <td>0.359190</td>\n",
       "      <td>0.017102</td>\n",
       "      <td>0.290898</td>\n",
       "    </tr>\n",
       "    <tr>\n",
       "      <th>Family</th>\n",
       "      <td>0.736501</td>\n",
       "      <td>0.684385</td>\n",
       "      <td>1.000000</td>\n",
       "      <td>0.572658</td>\n",
       "      <td>0.455587</td>\n",
       "      <td>0.245488</td>\n",
       "      <td>0.145983</td>\n",
       "      <td>0.361473</td>\n",
       "    </tr>\n",
       "    <tr>\n",
       "      <th>Health (Life Expectancy)</th>\n",
       "      <td>0.752312</td>\n",
       "      <td>0.823475</td>\n",
       "      <td>0.572658</td>\n",
       "      <td>1.000000</td>\n",
       "      <td>0.384989</td>\n",
       "      <td>0.275358</td>\n",
       "      <td>0.113624</td>\n",
       "      <td>0.236219</td>\n",
       "    </tr>\n",
       "    <tr>\n",
       "      <th>Freedom</th>\n",
       "      <td>0.584813</td>\n",
       "      <td>0.392212</td>\n",
       "      <td>0.455587</td>\n",
       "      <td>0.384989</td>\n",
       "      <td>1.000000</td>\n",
       "      <td>0.491397</td>\n",
       "      <td>0.415415</td>\n",
       "      <td>0.148356</td>\n",
       "    </tr>\n",
       "    <tr>\n",
       "      <th>Trust (Government Corruption)</th>\n",
       "      <td>0.460282</td>\n",
       "      <td>0.359190</td>\n",
       "      <td>0.245488</td>\n",
       "      <td>0.275358</td>\n",
       "      <td>0.491397</td>\n",
       "      <td>1.000000</td>\n",
       "      <td>0.226614</td>\n",
       "      <td>0.003921</td>\n",
       "    </tr>\n",
       "    <tr>\n",
       "      <th>Generosity</th>\n",
       "      <td>0.244304</td>\n",
       "      <td>0.017102</td>\n",
       "      <td>0.145983</td>\n",
       "      <td>0.113624</td>\n",
       "      <td>0.415415</td>\n",
       "      <td>0.226614</td>\n",
       "      <td>1.000000</td>\n",
       "      <td>-0.050460</td>\n",
       "    </tr>\n",
       "    <tr>\n",
       "      <th>SuicideRate_2015</th>\n",
       "      <td>0.249692</td>\n",
       "      <td>0.290898</td>\n",
       "      <td>0.361473</td>\n",
       "      <td>0.236219</td>\n",
       "      <td>0.148356</td>\n",
       "      <td>0.003921</td>\n",
       "      <td>-0.050460</td>\n",
       "      <td>1.000000</td>\n",
       "    </tr>\n",
       "  </tbody>\n",
       "</table>\n",
       "</div>"
      ],
      "text/plain": [
       "                               Happiness Score  Economy (GDP per Capita)  \\\n",
       "Happiness Score                       1.000000                  0.805143   \n",
       "Economy (GDP per Capita)              0.805143                  1.000000   \n",
       "Family                                0.736501                  0.684385   \n",
       "Health (Life Expectancy)              0.752312                  0.823475   \n",
       "Freedom                               0.584813                  0.392212   \n",
       "Trust (Government Corruption)         0.460282                  0.359190   \n",
       "Generosity                            0.244304                  0.017102   \n",
       "SuicideRate_2015                      0.249692                  0.290898   \n",
       "\n",
       "                                 Family  Health (Life Expectancy)   Freedom  \\\n",
       "Happiness Score                0.736501                  0.752312  0.584813   \n",
       "Economy (GDP per Capita)       0.684385                  0.823475  0.392212   \n",
       "Family                         1.000000                  0.572658  0.455587   \n",
       "Health (Life Expectancy)       0.572658                  1.000000  0.384989   \n",
       "Freedom                        0.455587                  0.384989  1.000000   \n",
       "Trust (Government Corruption)  0.245488                  0.275358  0.491397   \n",
       "Generosity                     0.145983                  0.113624  0.415415   \n",
       "SuicideRate_2015               0.361473                  0.236219  0.148356   \n",
       "\n",
       "                               Trust (Government Corruption)  Generosity  \\\n",
       "Happiness Score                                     0.460282    0.244304   \n",
       "Economy (GDP per Capita)                            0.359190    0.017102   \n",
       "Family                                              0.245488    0.145983   \n",
       "Health (Life Expectancy)                            0.275358    0.113624   \n",
       "Freedom                                             0.491397    0.415415   \n",
       "Trust (Government Corruption)                       1.000000    0.226614   \n",
       "Generosity                                          0.226614    1.000000   \n",
       "SuicideRate_2015                                    0.003921   -0.050460   \n",
       "\n",
       "                               SuicideRate_2015  \n",
       "Happiness Score                        0.249692  \n",
       "Economy (GDP per Capita)               0.290898  \n",
       "Family                                 0.361473  \n",
       "Health (Life Expectancy)               0.236219  \n",
       "Freedom                                0.148356  \n",
       "Trust (Government Corruption)          0.003921  \n",
       "Generosity                            -0.050460  \n",
       "SuicideRate_2015                       1.000000  "
      ]
     },
     "execution_count": 42,
     "metadata": {},
     "output_type": "execute_result"
    }
   ],
   "source": [
    "#see the correlation between the variables in the suicide rate & happiness report for 2015 datset\n",
    "suiciderate_happiness_report_2015.corr()"
   ]
  },
  {
   "cell_type": "code",
   "execution_count": 43,
   "metadata": {},
   "outputs": [
    {
     "data": {
      "text/plain": [
       "<matplotlib.axes._subplots.AxesSubplot at 0x2548b988a30>"
      ]
     },
     "execution_count": 43,
     "metadata": {},
     "output_type": "execute_result"
    },
    {
     "data": {
      "image/png": "[encoded data removed]",
      "text/plain": [
       "<Figure size 432x288 with 2 Axes>"
      ]
     },
     "metadata": {
      "needs_background": "light"
     },
     "output_type": "display_data"
    }
   ],
   "source": [
    "#create a correlation matrix using heat map\n",
    "corr = suiciderate_happiness_report_2015.corr()\n",
    "sns.heatmap(corr, \n",
    "            xticklabels=corr.columns.values,\n",
    "            yticklabels=corr.columns.values)"
   ]
  },
  {
   "cell_type": "code",
   "execution_count": 44,
   "metadata": {},
   "outputs": [],
   "source": [
    "#let's go more deep \n",
    "#first, create a function that will return a scatter plot with a regression line, the Pearson Correlation Coefficient, the p-value \n",
    "#& returns if there is a correlation & if the correlation is negative or positive and if it is weak, moderate, strong, or very\n",
    "#strong, & if it is significant or not\n",
    "def correlation(x, y, t):\n",
    "    sns.regplot(x, y)\n",
    "    plt.title('Correlation between suicide rate &' + ' ' + t)\n",
    "    pearson_coef, p_value = stats.pearsonr(x, y)\n",
    "    print('The Pearson Correlation Coefficient is', pearson_coef, 'with a P-value of P =', p_value)\n",
    "    if 0 <= pearson_coef <= 0.19:\n",
    "        print('There is NO correlation')\n",
    "    elif 0.20 <= pearson_coef <= 0.40:\n",
    "        print('Weak positive correlation')\n",
    "    elif 0.40 <= pearson_coef <= 0.59:\n",
    "        print('Moderate positive correlation')\n",
    "    elif 0.60 <= pearson_coef <= 0.79:\n",
    "        print('Strong positive correlation')\n",
    "    elif 0.80 <= pearson_coef <= 1:\n",
    "        print('Very stong positive correlation')\n",
    "    elif -0.19 <= pearson_coef <= -0.01:\n",
    "        print('There is NO correlation')\n",
    "    elif -0.39 <= pearson_coef <= -0.20:\n",
    "        print('Weak negative correlation')\n",
    "    elif -0.59 <= pearson_coef <= -0.40:\n",
    "        print('Moderate negative correlation')\n",
    "    elif -0.79 <= pearson_coef <= -0.60:\n",
    "        print('Strong negative correlation')\n",
    "    elif -0.80 >= pearson_coef >= -1:\n",
    "        print('Very stong negative correlation')\n",
    "\n",
    "    if p_value <= 0.05 and 0.20 <= pearson_coef <= 1:\n",
    "        print('This positive correlation is significant')\n",
    "    elif p_value <= 0.05 and -0.20 >= pearson_coef >= -1:\n",
    "        print('This negative correlation is significant')\n",
    "    elif p_value > 0.05 and 0.20 <= pearson_coef <= 1:\n",
    "        print('This positive correlation is NOT significant')\n",
    "    elif p_value > 0.05 and -0.20 >= pearson_coef >= -1:\n",
    "        print('This negative correlation is NOT significant')\n"
   ]
  },
  {
   "cell_type": "code",
   "execution_count": 45,
   "metadata": {},
   "outputs": [],
   "source": [
    "#second, make y2015 variable that presents suicide rate for 2015\n",
    "y2015 = suiciderate_happiness_report_2015['SuicideRate_2015']"
   ]
  },
  {
   "cell_type": "code",
   "execution_count": 46,
   "metadata": {
    "scrolled": true
   },
   "outputs": [
    {
     "name": "stdout",
     "output_type": "stream",
     "text": [
      "The Pearson Correlation Coefficient is 0.24969214561097003 with a P-value of P = 0.0040253334051316095\n",
      "Weak positive correlation\n",
      "This positive correlation is significant\n"
     ]
    },
    {
     "data": {
      "image/png": "[encoded data removed]",
      "text/plain": [
       "<Figure size 432x288 with 1 Axes>"
      ]
     },
     "metadata": {
      "needs_background": "light"
     },
     "output_type": "display_data"
    }
   ],
   "source": [
    "#now find the correlation between suicide rate for 2015 & each indicator of happiness report for 2015 (7 factors/indicators)\n",
    "#correlation between suicide rate & Happiness Score 2015\n",
    "correlation(suiciderate_happiness_report_2015['Happiness Score'], y2015,'Happiness Score 2015')"
   ]
  },
  {
   "cell_type": "code",
   "execution_count": 47,
   "metadata": {
    "scrolled": true
   },
   "outputs": [
    {
     "name": "stdout",
     "output_type": "stream",
     "text": [
      "The Pearson Correlation Coefficient is 0.29089831680774114 with a P-value of P = 0.0007495703026140347\n",
      "Weak positive correlation\n",
      "This positive correlation is significant\n"
     ]
    },
    {
     "data": {
      "image/png": "[encoded data removed]",
      "text/plain": [
       "<Figure size 432x288 with 1 Axes>"
      ]
     },
     "metadata": {
      "needs_background": "light"
     },
     "output_type": "display_data"
    }
   ],
   "source": [
    "#correlation between suicide rate & Economy (GDP per Capita) 2015\n",
    "correlation(suiciderate_happiness_report_2015['Economy (GDP per Capita)'], y2015,'Economy (GDP per Capita) 2015')"
   ]
  },
  {
   "cell_type": "code",
   "execution_count": 48,
   "metadata": {
    "scrolled": true
   },
   "outputs": [
    {
     "name": "stdout",
     "output_type": "stream",
     "text": [
      "The Pearson Correlation Coefficient is 0.36147263210601954 with a P-value of P = 2.2160088066931495e-05\n",
      "Weak positive correlation\n",
      "This positive correlation is significant\n"
     ]
    },
    {
     "data": {
      "image/png": "[encoded data removed]",
      "text/plain": [
       "<Figure size 432x288 with 1 Axes>"
      ]
     },
     "metadata": {
      "needs_background": "light"
     },
     "output_type": "display_data"
    }
   ],
   "source": [
    "#correlation between suicide rate & Family (social support) 2015\n",
    "correlation(suiciderate_happiness_report_2015['Family'], y2015,'Family (social support) 2015')"
   ]
  },
  {
   "cell_type": "code",
   "execution_count": 49,
   "metadata": {
    "scrolled": true
   },
   "outputs": [
    {
     "name": "stdout",
     "output_type": "stream",
     "text": [
      "The Pearson Correlation Coefficient is 0.23621879711781757 with a P-value of P = 0.006601848024254784\n",
      "Weak positive correlation\n",
      "This positive correlation is significant\n"
     ]
    },
    {
     "data": {
      "image/png": "[encoded data removed]",
      "text/plain": [
       "<Figure size 432x288 with 1 Axes>"
      ]
     },
     "metadata": {
      "needs_background": "light"
     },
     "output_type": "display_data"
    }
   ],
   "source": [
    "#correlation between suicide rate & Health (Life Expectancy) 2015\n",
    "correlation(suiciderate_happiness_report_2015['Health (Life Expectancy)'], y2015,'Health (Life Expectancy) 2015')"
   ]
  },
  {
   "cell_type": "code",
   "execution_count": 50,
   "metadata": {},
   "outputs": [
    {
     "name": "stdout",
     "output_type": "stream",
     "text": [
      "The Pearson Correlation Coefficient is 0.14835637530427356 with a P-value of P = 0.09081504980639026\n",
      "There is NO correlation\n"
     ]
    },
    {
     "data": {
      "image/png": "[encoded data removed]",
      "text/plain": [
       "<Figure size 432x288 with 1 Axes>"
      ]
     },
     "metadata": {
      "needs_background": "light"
     },
     "output_type": "display_data"
    }
   ],
   "source": [
    "#correlation between suicide rate & Freedom 2015\n",
    "correlation(suiciderate_happiness_report_2015['Freedom'], y2015,'Freedom 2015')"
   ]
  },
  {
   "cell_type": "code",
   "execution_count": 51,
   "metadata": {
    "scrolled": true
   },
   "outputs": [
    {
     "name": "stdout",
     "output_type": "stream",
     "text": [
      "The Pearson Correlation Coefficient is 0.003920763559688643 with a P-value of P = 0.9645494785055182\n",
      "There is NO correlation\n"
     ]
    },
    {
     "data": {
      "image/png": "[encoded data removed]",
      "text/plain": [
       "<Figure size 432x288 with 1 Axes>"
      ]
     },
     "metadata": {
      "needs_background": "light"
     },
     "output_type": "display_data"
    }
   ],
   "source": [
    "#correlation between suicide rate & Trust (Government Corruption) 2015\n",
    "correlation(suiciderate_happiness_report_2015['Trust (Government Corruption)'], y2015,'Trust (Government Corruption) 2015')"
   ]
  },
  {
   "cell_type": "code",
   "execution_count": 52,
   "metadata": {},
   "outputs": [
    {
     "name": "stdout",
     "output_type": "stream",
     "text": [
      "The Pearson Correlation Coefficient is -0.05045986898548821 with a P-value of P = 0.5670718831148069\n",
      "There is NO correlation\n"
     ]
    },
    {
     "data": {
      "image/png": "[encoded data removed]",
      "text/plain": [
       "<Figure size 432x288 with 1 Axes>"
      ]
     },
     "metadata": {
      "needs_background": "light"
     },
     "output_type": "display_data"
    }
   ],
   "source": [
    "#correlation between suicide rate & Generosity 2015\n",
    "correlation(suiciderate_happiness_report_2015['Generosity'], y2015,'Generosity 2015')"
   ]
  },
  {
   "cell_type": "code",
   "execution_count": 53,
   "metadata": {},
   "outputs": [],
   "source": [
    "#based on this analysis, there are weak positive correlations between suicide rate (dependent variable/ target) \n",
    "#& Happiness Score, Economy (GDP per Capita), Family and Health (Life Expectancy) for 2015 (independent variables/ predictors)\n",
    "#and these correlations are significant"
   ]
  },
  {
   "cell_type": "code",
   "execution_count": 54,
   "metadata": {},
   "outputs": [],
   "source": [
    "#to be more sure, let's apply the analysis on the suicide rate & happiness report for 2016 datset"
   ]
  },
  {
   "cell_type": "code",
   "execution_count": 55,
   "metadata": {
    "scrolled": true
   },
   "outputs": [
    {
     "data": {
      "text/html": [
       "<div>\n",
       "<style scoped>\n",
       "    .dataframe tbody tr th:only-of-type {\n",
       "        vertical-align: middle;\n",
       "    }\n",
       "\n",
       "    .dataframe tbody tr th {\n",
       "        vertical-align: top;\n",
       "    }\n",
       "\n",
       "    .dataframe thead th {\n",
       "        text-align: right;\n",
       "    }\n",
       "</style>\n",
       "<table border=\"1\" class=\"dataframe\">\n",
       "  <thead>\n",
       "    <tr style=\"text-align: right;\">\n",
       "      <th></th>\n",
       "      <th>Happiness Score</th>\n",
       "      <th>Economy (GDP per Capita)</th>\n",
       "      <th>Family</th>\n",
       "      <th>Health (Life Expectancy)</th>\n",
       "      <th>Freedom</th>\n",
       "      <th>Trust (Government Corruption)</th>\n",
       "      <th>Generosity</th>\n",
       "      <th>SuicideRate_2016</th>\n",
       "    </tr>\n",
       "  </thead>\n",
       "  <tbody>\n",
       "    <tr>\n",
       "      <th>Happiness Score</th>\n",
       "      <td>1.000000</td>\n",
       "      <td>0.805731</td>\n",
       "      <td>0.727682</td>\n",
       "      <td>0.789251</td>\n",
       "      <td>0.593817</td>\n",
       "      <td>0.464710</td>\n",
       "      <td>0.215439</td>\n",
       "      <td>0.276766</td>\n",
       "    </tr>\n",
       "    <tr>\n",
       "      <th>Economy (GDP per Capita)</th>\n",
       "      <td>0.805731</td>\n",
       "      <td>1.000000</td>\n",
       "      <td>0.712244</td>\n",
       "      <td>0.836156</td>\n",
       "      <td>0.389879</td>\n",
       "      <td>0.342201</td>\n",
       "      <td>0.003712</td>\n",
       "      <td>0.343959</td>\n",
       "    </tr>\n",
       "    <tr>\n",
       "      <th>Family</th>\n",
       "      <td>0.727682</td>\n",
       "      <td>0.712244</td>\n",
       "      <td>1.000000</td>\n",
       "      <td>0.622839</td>\n",
       "      <td>0.459686</td>\n",
       "      <td>0.258097</td>\n",
       "      <td>0.153341</td>\n",
       "      <td>0.398522</td>\n",
       "    </tr>\n",
       "    <tr>\n",
       "      <th>Health (Life Expectancy)</th>\n",
       "      <td>0.789251</td>\n",
       "      <td>0.836156</td>\n",
       "      <td>0.622839</td>\n",
       "      <td>1.000000</td>\n",
       "      <td>0.385867</td>\n",
       "      <td>0.288839</td>\n",
       "      <td>0.082110</td>\n",
       "      <td>0.308110</td>\n",
       "    </tr>\n",
       "    <tr>\n",
       "      <th>Freedom</th>\n",
       "      <td>0.593817</td>\n",
       "      <td>0.389879</td>\n",
       "      <td>0.459686</td>\n",
       "      <td>0.385867</td>\n",
       "      <td>1.000000</td>\n",
       "      <td>0.511563</td>\n",
       "      <td>0.396102</td>\n",
       "      <td>0.149709</td>\n",
       "    </tr>\n",
       "    <tr>\n",
       "      <th>Trust (Government Corruption)</th>\n",
       "      <td>0.464710</td>\n",
       "      <td>0.342201</td>\n",
       "      <td>0.258097</td>\n",
       "      <td>0.288839</td>\n",
       "      <td>0.511563</td>\n",
       "      <td>1.000000</td>\n",
       "      <td>0.267328</td>\n",
       "      <td>0.057626</td>\n",
       "    </tr>\n",
       "    <tr>\n",
       "      <th>Generosity</th>\n",
       "      <td>0.215439</td>\n",
       "      <td>0.003712</td>\n",
       "      <td>0.153341</td>\n",
       "      <td>0.082110</td>\n",
       "      <td>0.396102</td>\n",
       "      <td>0.267328</td>\n",
       "      <td>1.000000</td>\n",
       "      <td>-0.012547</td>\n",
       "    </tr>\n",
       "    <tr>\n",
       "      <th>SuicideRate_2016</th>\n",
       "      <td>0.276766</td>\n",
       "      <td>0.343959</td>\n",
       "      <td>0.398522</td>\n",
       "      <td>0.308110</td>\n",
       "      <td>0.149709</td>\n",
       "      <td>0.057626</td>\n",
       "      <td>-0.012547</td>\n",
       "      <td>1.000000</td>\n",
       "    </tr>\n",
       "  </tbody>\n",
       "</table>\n",
       "</div>"
      ],
      "text/plain": [
       "                               Happiness Score  Economy (GDP per Capita)  \\\n",
       "Happiness Score                       1.000000                  0.805731   \n",
       "Economy (GDP per Capita)              0.805731                  1.000000   \n",
       "Family                                0.727682                  0.712244   \n",
       "Health (Life Expectancy)              0.789251                  0.836156   \n",
       "Freedom                               0.593817                  0.389879   \n",
       "Trust (Government Corruption)         0.464710                  0.342201   \n",
       "Generosity                            0.215439                  0.003712   \n",
       "SuicideRate_2016                      0.276766                  0.343959   \n",
       "\n",
       "                                 Family  Health (Life Expectancy)   Freedom  \\\n",
       "Happiness Score                0.727682                  0.789251  0.593817   \n",
       "Economy (GDP per Capita)       0.712244                  0.836156  0.389879   \n",
       "Family                         1.000000                  0.622839  0.459686   \n",
       "Health (Life Expectancy)       0.622839                  1.000000  0.385867   \n",
       "Freedom                        0.459686                  0.385867  1.000000   \n",
       "Trust (Government Corruption)  0.258097                  0.288839  0.511563   \n",
       "Generosity                     0.153341                  0.082110  0.396102   \n",
       "SuicideRate_2016               0.398522                  0.308110  0.149709   \n",
       "\n",
       "                               Trust (Government Corruption)  Generosity  \\\n",
       "Happiness Score                                     0.464710    0.215439   \n",
       "Economy (GDP per Capita)                            0.342201    0.003712   \n",
       "Family                                              0.258097    0.153341   \n",
       "Health (Life Expectancy)                            0.288839    0.082110   \n",
       "Freedom                                             0.511563    0.396102   \n",
       "Trust (Government Corruption)                       1.000000    0.267328   \n",
       "Generosity                                          0.267328    1.000000   \n",
       "SuicideRate_2016                                    0.057626   -0.012547   \n",
       "\n",
       "                               SuicideRate_2016  \n",
       "Happiness Score                        0.276766  \n",
       "Economy (GDP per Capita)               0.343959  \n",
       "Family                                 0.398522  \n",
       "Health (Life Expectancy)               0.308110  \n",
       "Freedom                                0.149709  \n",
       "Trust (Government Corruption)          0.057626  \n",
       "Generosity                            -0.012547  \n",
       "SuicideRate_2016                       1.000000  "
      ]
     },
     "execution_count": 55,
     "metadata": {},
     "output_type": "execute_result"
    }
   ],
   "source": [
    "#see the correlation between the variables in the suicide rate & happiness report for 2016 datset\n",
    "suiciderate_happiness_report_2016.corr()"
   ]
  },
  {
   "cell_type": "code",
   "execution_count": 56,
   "metadata": {},
   "outputs": [
    {
     "data": {
      "text/plain": [
       "<matplotlib.axes._subplots.AxesSubplot at 0x2548bceab50>"
      ]
     },
     "execution_count": 56,
     "metadata": {},
     "output_type": "execute_result"
    },
    {
     "data": {
      "image/png": "[encoded data removed]",
      "text/plain": [
       "<Figure size 432x288 with 2 Axes>"
      ]
     },
     "metadata": {
      "needs_background": "light"
     },
     "output_type": "display_data"
    }
   ],
   "source": [
    "#create a correlation matrix using heat map\n",
    "corr = suiciderate_happiness_report_2016.corr()\n",
    "sns.heatmap(corr, \n",
    "            xticklabels=corr.columns.values,\n",
    "            yticklabels=corr.columns.values)"
   ]
  },
  {
   "cell_type": "code",
   "execution_count": 57,
   "metadata": {},
   "outputs": [],
   "source": [
    "#make y2016 variable that presents suicide rate for 2016\n",
    "y2016 = suiciderate_happiness_report_2016['SuicideRate_2016']"
   ]
  },
  {
   "cell_type": "code",
   "execution_count": 58,
   "metadata": {},
   "outputs": [
    {
     "name": "stdout",
     "output_type": "stream",
     "text": [
      "The Pearson Correlation Coefficient is 0.27676597926752955 with a P-value of P = 0.001434358771619454\n",
      "Weak positive correlation\n",
      "This positive correlation is significant\n"
     ]
    },
    {
     "data": {
      "image/png": "[encoded data removed]",
      "text/plain": [
       "<Figure size 432x288 with 1 Axes>"
      ]
     },
     "metadata": {
      "needs_background": "light"
     },
     "output_type": "display_data"
    }
   ],
   "source": [
    "#we will use the correlation function we've created to find the correlation between suicide rate for 2015 & each indicator of happiness report for 2016 (7 factors/indicators)\n",
    "#correlation between suicide rate & Happiness Score 2015\n",
    "correlation(suiciderate_happiness_report_2016['Happiness Score'], y2016,'Happiness Score 2016')"
   ]
  },
  {
   "cell_type": "code",
   "execution_count": 59,
   "metadata": {},
   "outputs": [
    {
     "name": "stdout",
     "output_type": "stream",
     "text": [
      "The Pearson Correlation Coefficient is 0.34395868691788917 with a P-value of P = 6.154306342692557e-05\n",
      "Weak positive correlation\n",
      "This positive correlation is significant\n"
     ]
    },
    {
     "data": {
      "image/png": "[encoded data removed]",
      "text/plain": [
       "<Figure size 432x288 with 1 Axes>"
      ]
     },
     "metadata": {
      "needs_background": "light"
     },
     "output_type": "display_data"
    }
   ],
   "source": [
    "#correlation between suicide rate & Economy (GDP per Capita) 2016\n",
    "correlation(suiciderate_happiness_report_2016['Economy (GDP per Capita)'], y2016,'Economy (GDP per Capita) 2016')"
   ]
  },
  {
   "cell_type": "code",
   "execution_count": 60,
   "metadata": {},
   "outputs": [
    {
     "name": "stdout",
     "output_type": "stream",
     "text": [
      "The Pearson Correlation Coefficient is 0.39852179778191205 with a P-value of P = 2.6530309008460027e-06\n",
      "Weak positive correlation\n",
      "This positive correlation is significant\n"
     ]
    },
    {
     "data": {
      "image/png": "[encoded data removed]",
      "text/plain": [
       "<Figure size 432x288 with 1 Axes>"
      ]
     },
     "metadata": {
      "needs_background": "light"
     },
     "output_type": "display_data"
    }
   ],
   "source": [
    "#correlation between suicide rate & Family (social support) 2016\n",
    "correlation(suiciderate_happiness_report_2016['Family'], y2016,'Family (social support) 2016')"
   ]
  },
  {
   "cell_type": "code",
   "execution_count": 61,
   "metadata": {},
   "outputs": [
    {
     "name": "stdout",
     "output_type": "stream",
     "text": [
      "The Pearson Correlation Coefficient is 0.3081100473814231 with a P-value of P = 0.00036215339299702434\n",
      "Weak positive correlation\n",
      "This positive correlation is significant\n"
     ]
    },
    {
     "data": {
      "image/png": "[encoded data removed]",
      "text/plain": [
       "<Figure size 432x288 with 1 Axes>"
      ]
     },
     "metadata": {
      "needs_background": "light"
     },
     "output_type": "display_data"
    }
   ],
   "source": [
    "#correlation between suicide rate & Health (Life Expectancy) 2016\n",
    "correlation(suiciderate_happiness_report_2016['Health (Life Expectancy)'], y2016,'Health (Life Expectancy) 2016')"
   ]
  },
  {
   "cell_type": "code",
   "execution_count": 62,
   "metadata": {},
   "outputs": [
    {
     "name": "stdout",
     "output_type": "stream",
     "text": [
      "The Pearson Correlation Coefficient is 0.14970854983834767 with a P-value of P = 0.08912171442898578\n",
      "There is NO correlation\n"
     ]
    },
    {
     "data": {
      "image/png": "[encoded data removed]",
      "text/plain": [
       "<Figure size 432x288 with 1 Axes>"
      ]
     },
     "metadata": {
      "needs_background": "light"
     },
     "output_type": "display_data"
    }
   ],
   "source": [
    "#correlation between suicide rate & Freedom 2016\n",
    "correlation(suiciderate_happiness_report_2016['Freedom'], y2016,'Freedom 2016')"
   ]
  },
  {
   "cell_type": "code",
   "execution_count": 63,
   "metadata": {},
   "outputs": [
    {
     "name": "stdout",
     "output_type": "stream",
     "text": [
      "The Pearson Correlation Coefficient is 0.05762605922817429 with a P-value of P = 0.5148955423356858\n",
      "There is NO correlation\n"
     ]
    },
    {
     "data": {
      "image/png": "[encoded data removed]",
      "text/plain": [
       "<Figure size 432x288 with 1 Axes>"
      ]
     },
     "metadata": {
      "needs_background": "light"
     },
     "output_type": "display_data"
    }
   ],
   "source": [
    "#correlation between suicide rate & Trust (Government Corruption) 2016\n",
    "correlation(suiciderate_happiness_report_2016['Trust (Government Corruption)'], y2016,'Trust (Government Corruption) 2016')"
   ]
  },
  {
   "cell_type": "code",
   "execution_count": 64,
   "metadata": {},
   "outputs": [
    {
     "name": "stdout",
     "output_type": "stream",
     "text": [
      "The Pearson Correlation Coefficient is -0.012546607198814303 with a P-value of P = 0.8873349329392579\n",
      "There is NO correlation\n"
     ]
    },
    {
     "data": {
      "image/png": "[encoded data removed]",
      "text/plain": [
       "<Figure size 432x288 with 1 Axes>"
      ]
     },
     "metadata": {
      "needs_background": "light"
     },
     "output_type": "display_data"
    }
   ],
   "source": [
    "#correlation between suicide rate & Generosity 2016\n",
    "correlation(suiciderate_happiness_report_2016['Generosity'], y2016,'Generosity 2016')"
   ]
  },
  {
   "cell_type": "code",
   "execution_count": 65,
   "metadata": {},
   "outputs": [],
   "source": [
    "#as in the previous analysis,there are weak positive correlations between suicide rate (dependent variable/ target) \n",
    "#& Happiness Score, Economy (GDP per Capita), Family and Health (Life Expectancy) for 2016 (independent variables/ predictors)\n",
    "#and these correlations are significant"
   ]
  },
  {
   "cell_type": "code",
   "execution_count": 66,
   "metadata": {},
   "outputs": [],
   "source": [
    "#Results\n",
    "#according to these analyses, we can state that a country that has a higher happiness score, higher GDP, \n",
    "#higher family (social support), or higher Health (Life Expectancy), tends to have a higher suicide rate.\n",
    "#Also, we can state that the developed countries tend to have higher suicide rates"
   ]
  },
  {
   "cell_type": "code",
   "execution_count": null,
   "metadata": {},
   "outputs": [],
   "source": []
  }
 ],
 "metadata": {
  "kernelspec": {
   "display_name": "Python 3",
   "language": "python",
   "name": "python3"
  },
  "language_info": {
   "codemirror_mode": {
    "name": "ipython",
    "version": 3
   },
   "file_extension": ".py",
   "mimetype": "text/x-python",
   "name": "python",
   "nbconvert_exporter": "python",
   "pygments_lexer": "ipython3",
   "version": "3.8.3"
  }
 },
 "nbformat": 4,
 "nbformat_minor": 4
}
